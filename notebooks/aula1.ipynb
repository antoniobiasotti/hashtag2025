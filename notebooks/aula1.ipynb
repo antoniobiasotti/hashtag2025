{
 "cells": [
  {
   "cell_type": "code",
   "execution_count": 6,
   "id": "1736207a-490b-4c56-96d0-065e12e92c08",
   "metadata": {},
   "outputs": [],
   "source": [
    "import pyautogui\n",
    "import time"
   ]
  },
  {
   "cell_type": "code",
   "execution_count": 7,
   "id": "8b00e384-fe96-4ad5-88e8-7011209b18f3",
   "metadata": {},
   "outputs": [],
   "source": [
    "pyautogui.PAUSE = 1"
   ]
  },
  {
   "cell_type": "code",
   "execution_count": 8,
   "id": "d3450acc-e182-4d89-82ec-aa26ccebb81f",
   "metadata": {},
   "outputs": [],
   "source": [
    "#Abrir o sistema da empresa\n",
    "pyautogui.press(\"win\")\n",
    "pyautogui.write(\"chrome\")\n",
    "pyautogui.press(\"enter\")\n",
    "pyautogui.write(\"https://dlp.hashtagtreinamentos.com/python/intensivao/login\")\n",
    "pyautogui.press(\"enter\")\n",
    "\n",
    "time.sleep(3)"
   ]
  },
  {
   "cell_type": "code",
   "execution_count": 9,
   "id": "d8d23094-4bd9-4f24-aeff-c820ce4633e4",
   "metadata": {},
   "outputs": [
    {
     "name": "stdout",
     "output_type": "stream",
     "text": [
      "Point(x=2027, y=252)\n"
     ]
    }
   ],
   "source": [
    "from auxiliar import localizador\n",
    "localizador()"
   ]
  },
  {
   "cell_type": "code",
   "execution_count": 10,
   "id": "d35e1119-d056-484b-89bb-9ed208cea148",
   "metadata": {},
   "outputs": [],
   "source": [
    "pyautogui.click(x=899, y=826)\n",
    "pyautogui.write(\"pythonimpressionador@gmail.com\")"
   ]
  },
  {
   "cell_type": "code",
   "execution_count": 11,
   "id": "fa03c374-218a-45c3-886c-866849709e6b",
   "metadata": {},
   "outputs": [],
   "source": [
    "pyautogui.press(\"tab\")\n",
    "pyautogui.write(\"minhasenha\")\n",
    "pyautogui.press(\"tab\")\n",
    "pyautogui.press(\"enter\")"
   ]
  }
 ],
 "metadata": {
  "kernelspec": {
   "display_name": "Python (Hashtag)",
   "language": "python",
   "name": "hashtag"
  },
  "language_info": {
   "codemirror_mode": {
    "name": "ipython",
    "version": 3
   },
   "file_extension": ".py",
   "mimetype": "text/x-python",
   "name": "python",
   "nbconvert_exporter": "python",
   "pygments_lexer": "ipython3",
   "version": "3.13.1"
  }
 },
 "nbformat": 4,
 "nbformat_minor": 5
}
