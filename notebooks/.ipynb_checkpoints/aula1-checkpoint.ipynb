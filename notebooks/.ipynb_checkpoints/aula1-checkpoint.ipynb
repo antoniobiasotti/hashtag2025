{
 "cells": [
  {
   "cell_type": "code",
   "execution_count": 16,
   "id": "1736207a-490b-4c56-96d0-065e12e92c08",
   "metadata": {},
   "outputs": [],
   "source": [
    "import pyautogui\n",
    "import time"
   ]
  },
  {
   "cell_type": "code",
   "execution_count": 17,
   "id": "8b00e384-fe96-4ad5-88e8-7011209b18f3",
   "metadata": {},
   "outputs": [],
   "source": [
    "pyautogui.PAUSE = 1"
   ]
  },
  {
   "cell_type": "code",
   "execution_count": 18,
   "id": "d3450acc-e182-4d89-82ec-aa26ccebb81f",
   "metadata": {},
   "outputs": [],
   "source": [
    "#Abrir o sistema da empresa\n",
    "pyautogui.press(\"win\")\n",
    "pyautogui.write(\"chrome\")\n",
    "pyautogui.press(\"enter\")\n",
    "pyautogui.write(\"https://dlp.hashtagtreinamentos.com/python/intensivao/login\")\n",
    "pyautogui.press(\"enter\")\n",
    "\n",
    "time.sleep(3)"
   ]
  },
  {
   "cell_type": "code",
   "execution_count": 19,
   "id": "d8d23094-4bd9-4f24-aeff-c820ce4633e4",
   "metadata": {},
   "outputs": [
    {
     "ename": "NameError",
     "evalue": "name 'time' is not defined",
     "output_type": "error",
     "traceback": [
      "\u001b[1;31m---------------------------------------------------------------------------\u001b[0m",
      "\u001b[1;31mNameError\u001b[0m                                 Traceback (most recent call last)",
      "Cell \u001b[1;32mIn[19], line 2\u001b[0m\n\u001b[0;32m      1\u001b[0m \u001b[38;5;28;01mfrom\u001b[39;00m \u001b[38;5;21;01mauxiliar\u001b[39;00m \u001b[38;5;28;01mimport\u001b[39;00m localizador\n\u001b[1;32m----> 2\u001b[0m \u001b[43mlocalizador\u001b[49m\u001b[43m(\u001b[49m\u001b[43m)\u001b[49m\n",
      "File \u001b[1;32m~\\Documents\\Meus Projetos\\Hashtag Python\\aulas\\notebooks\\auxiliar.py:2\u001b[0m, in \u001b[0;36mlocalizador\u001b[1;34m()\u001b[0m\n\u001b[0;32m      1\u001b[0m \u001b[38;5;28;01mdef\u001b[39;00m \u001b[38;5;21mlocalizador\u001b[39m():\n\u001b[1;32m----> 2\u001b[0m     \u001b[43mtime\u001b[49m\u001b[38;5;241m.\u001b[39msleep(\u001b[38;5;241m5\u001b[39m)\n\u001b[0;32m      3\u001b[0m     \u001b[38;5;28mprint\u001b[39m(pyautogui\u001b[38;5;241m.\u001b[39mposition())\n",
      "\u001b[1;31mNameError\u001b[0m: name 'time' is not defined"
     ]
    }
   ],
   "source": [
    "from auxiliar import localizador\n",
    "localizador()"
   ]
  },
  {
   "cell_type": "code",
   "execution_count": null,
   "id": "fa03c374-218a-45c3-886c-866849709e6b",
   "metadata": {},
   "outputs": [],
   "source": []
  }
 ],
 "metadata": {
  "kernelspec": {
   "display_name": "Python (Hashtag)",
   "language": "python",
   "name": "hashtag"
  },
  "language_info": {
   "codemirror_mode": {
    "name": "ipython",
    "version": 3
   },
   "file_extension": ".py",
   "mimetype": "text/x-python",
   "name": "python",
   "nbconvert_exporter": "python",
   "pygments_lexer": "ipython3",
   "version": "3.13.1"
  }
 },
 "nbformat": 4,
 "nbformat_minor": 5
}
